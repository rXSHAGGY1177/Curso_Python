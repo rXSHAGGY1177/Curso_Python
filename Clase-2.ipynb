{
 "cells": [
  {
   "cell_type": "markdown",
   "metadata": {},
   "source": [
    "# Clase 2"
   ]
  },
  {
   "cell_type": "code",
   "execution_count": 1,
   "metadata": {},
   "outputs": [
    {
     "name": "stdout",
     "output_type": "stream",
     "text": [
      "Hola\n"
     ]
    }
   ],
   "source": [
    "print(\"Hola\")"
   ]
  },
  {
   "cell_type": "code",
   "execution_count": 4,
   "metadata": {},
   "outputs": [
    {
     "name": "stdout",
     "output_type": "stream",
     "text": [
      "num2 es mayor que num1\n"
     ]
    }
   ],
   "source": [
    "num1 = 8\n",
    "num2 = 16\n",
    "\n",
    "if num1 > num2:\n",
    "    print(\"num1 es mayor que num2\")\n",
    "elif num2 > num1:\n",
    "    print(\"num2 es mayor que num1\")\n",
    "else:\n",
    "    print(\"Ambos osn iguales\")      "
   ]
  },
  {
   "cell_type": "markdown",
   "metadata": {},
   "source": [
    "# Listas "
   ]
  },
  {
   "cell_type": "code",
   "execution_count": 5,
   "metadata": {},
   "outputs": [
    {
     "name": "stdout",
     "output_type": "stream",
     "text": [
      "['manzanas', 'sandia', 'pera']\n"
     ]
    }
   ],
   "source": [
    "mis_frutas = [\"manzanas\", \"sandia\", \"pera\"]\n",
    "print(mis_frutas)"
   ]
  },
  {
   "cell_type": "code",
   "execution_count": 6,
   "metadata": {},
   "outputs": [
    {
     "name": "stdout",
     "output_type": "stream",
     "text": [
      "[1, 2, 6, 7, 20]\n"
     ]
    }
   ],
   "source": [
    "mis_numeros = [1, 2, 7, 20, 6]\n",
    "mis_numeros.sort()\n",
    "print(mis_numeros)"
   ]
  },
  {
   "cell_type": "code",
   "execution_count": 7,
   "metadata": {},
   "outputs": [
    {
     "name": "stdout",
     "output_type": "stream",
     "text": [
      "[1, 2, 7, 20, 6, 6, 10, 9, 9, 11]\n"
     ]
    }
   ],
   "source": [
    "mis_numeros = [1, 2, 7, 20, 6, 6, 10, 9, 9, 11]\n",
    "sum(mis_numeros)\n",
    "print(mis_numeros)"
   ]
  },
  {
   "cell_type": "markdown",
   "metadata": {},
   "source": [
    "# $$\\frac{1}{2}\\sum{i}^{n} x_i$$"
   ]
  },
  {
   "cell_type": "code",
   "execution_count": 8,
   "metadata": {},
   "outputs": [
    {
     "name": "stdout",
     "output_type": "stream",
     "text": [
      "8.1\n"
     ]
    }
   ],
   "source": [
    "promedio = sum(mis_numeros) / len(mis_numeros)\n",
    "print(promedio)"
   ]
  }
 ],
 "metadata": {
  "kernelspec": {
   "display_name": "Python 3.11.0 64-bit",
   "language": "python",
   "name": "python3"
  },
  "language_info": {
   "codemirror_mode": {
    "name": "ipython",
    "version": 3
   },
   "file_extension": ".py",
   "mimetype": "text/x-python",
   "name": "python",
   "nbconvert_exporter": "python",
   "pygments_lexer": "ipython3",
   "version": "3.11.0"
  },
  "orig_nbformat": 4,
  "vscode": {
   "interpreter": {
    "hash": "9b5029587190b11e5a04718bf52a2ad3e8b5321a77cd53481dede7e957d6a32e"
   }
  }
 },
 "nbformat": 4,
 "nbformat_minor": 2
}
